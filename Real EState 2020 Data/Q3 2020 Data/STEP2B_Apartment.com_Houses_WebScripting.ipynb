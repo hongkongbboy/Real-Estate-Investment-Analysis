{
 "cells": [
  {
   "cell_type": "code",
   "execution_count": 19,
   "metadata": {},
   "outputs": [],
   "source": [
    "# Dependencies\n",
    "from bs4 import BeautifulSoup, SoupStrainer\n",
    "import requests\n",
    "import pandas as pd\n",
    "from pprint import pprint\n",
    "import re\n",
    "import time"
   ]
  },
  {
   "cell_type": "code",
   "execution_count": 20,
   "metadata": {},
   "outputs": [],
   "source": [
    "rent_obj = []\n",
    "all_property = []\n",
    "\n",
    "for page in range(1,29):\n",
    "    link = 'https://www.apartments.com/houses/ca/' + str(page) + '/'\n",
    "    user_agent = 'Mozilla/5.0 (Windows NT 6.3; Win64; x64) AppleWebKit/537.36 (KHTML, like Gecko) Chrome/60.0.3112.113 Safari/537.36'\n",
    "    headers = {'User-Agent': user_agent}\n",
    "    response = requests.get(link, headers=headers)\n",
    "    soup = BeautifulSoup(response.text, 'html.parser')\n",
    "#     page 1 - 2\n",
    "#     results = soup.find_all('article', class_='premiumPlus placard')\n",
    "#     page 2-19\n",
    "#     results = soup.find_all('article', class_='premium placard')\n",
    "#     page 19-28\n",
    "    results = soup.find_all('article', class_='prosumer placard')\n",
    "\n",
    "    # Loop through returned results and get the hyperlink of the properties of the page\n",
    "    for result in results:\n",
    "        find_tag = result.find('a')['href']\n",
    "        print(find_tag)\n",
    "        new_response = requests.get(find_tag, headers=headers)\n",
    "        new_soup = BeautifulSoup(new_response.text, 'html.parser')\n",
    "        new_results = new_soup.find('div', class_=\"mainWrapper\")\n",
    "        \n",
    "        full_address = result.find('div', class_ = \"location\").text\n",
    "        city = new_results.find('div', class_ = \"propertyAddress\").select('span')[0].text\n",
    "        state = new_results.find('div', class_ = \"propertyAddress\").select('span')[1].text\n",
    "        zip_code = new_results.find('div', class_ = \"propertyAddress\").select('span')[2].text\n",
    "        street = new_results.find('h1', class_ = \"propertyName\").text.replace('\\r\\n                    ', \"\").strip()\n",
    "        bedroom_container = new_results.find('div', class_=\"rentRollupContainer\")\n",
    "        house_details = new_results.find('table', class_=\"availabilityTable\")\n",
    "        bath_number = house_details.find('td', class_=\"baths\").find('span', class_=\"shortText\").text.replace('\\r\\n                    ', \"\").strip()\n",
    "        house_square_feet = house_details.find('td', class_=\"sqft\").text\n",
    "        square_feet = house_square_feet.split(\" \")[0];\n",
    "        lease_length = house_details.find('td', class_=\"leaseLength\").text\n",
    "        availability_check = house_details.find('td', class_=\"available\").text.replace('\\r\\n                    ', \"\").strip()\n",
    "        all_the_rents = bedroom_container.findAll('span', class_=\"rentRollup\")\n",
    "\n",
    "        bedroom_info = []\n",
    "        for rent_block in all_the_rents:\n",
    "            bedroom_type = rent_block.find('span', class_=\"shortText\").text\n",
    "            try:\n",
    "                price = re.search('\\$.* ', rent_block.text)\n",
    "                price = price.group(0)[:-3]\n",
    "\n",
    "            except:\n",
    "                if \"Call for Rent\" in rent_block.text:\n",
    "                    price = \"\"\n",
    "                else:\n",
    "                    price = re.search('\\$.*', rent_block.text).group()[:-1]\n",
    "            bedroom_info.append({\n",
    "                    'bedroom_type': bedroom_type,\n",
    "                    'price': price\n",
    "                })\n",
    "        rent_obj = {\n",
    "                \"City_Rent\": city,\n",
    "                \"Type\": \"Houses\",\n",
    "                \"State_Rent\": state,\n",
    "                \"Zip_code\": zip_code,\n",
    "                \"Bedroom_Info\": bedroom_info,\n",
    "                \"Full_Address\": full_address,\n",
    "                \"Rent_link\": find_tag,\n",
    "                \"Bath_Info\": bath_number,\n",
    "                \"Square_Feet_Data\": house_square_feet,\n",
    "                \"Square_Feet\": square_feet,\n",
    "                \"Lease_length\": lease_length,\n",
    "                \"Availability_check\": availability_check\n",
    "            }\n",
    "        for room_type in bedroom_info:\n",
    "            rent_obj[room_type[\"bedroom_type\"]] = room_type[\"price\"];\n",
    "        \n",
    "        all_property.append(rent_obj)\n",
    "        time.sleep(2)\n",
    "# print(all_property)"
   ]
  },
  {
   "cell_type": "code",
   "execution_count": 21,
   "metadata": {},
   "outputs": [
    {
     "data": {
      "text/html": [
       "<div>\n",
       "<style scoped>\n",
       "    .dataframe tbody tr th:only-of-type {\n",
       "        vertical-align: middle;\n",
       "    }\n",
       "\n",
       "    .dataframe tbody tr th {\n",
       "        vertical-align: top;\n",
       "    }\n",
       "\n",
       "    .dataframe thead th {\n",
       "        text-align: right;\n",
       "    }\n",
       "</style>\n",
       "<table border=\"1\" class=\"dataframe\">\n",
       "  <thead>\n",
       "    <tr style=\"text-align: right;\">\n",
       "      <th></th>\n",
       "    </tr>\n",
       "  </thead>\n",
       "  <tbody>\n",
       "  </tbody>\n",
       "</table>\n",
       "</div>"
      ],
      "text/plain": [
       "Empty DataFrame\n",
       "Columns: []\n",
       "Index: []"
      ]
     },
     "execution_count": 21,
     "metadata": {},
     "output_type": "execute_result"
    }
   ],
   "source": [
    "rent_data = pd.DataFrame(all_property)\n",
    "rent_data"
   ]
  },
  {
   "cell_type": "code",
   "execution_count": 18,
   "metadata": {},
   "outputs": [],
   "source": [
    "# Export file as a CSV, without the Pandas index, but with the header\n",
    "rent_data.to_csv(\"Output/Apartment.com/Q3-2020_Apartment.com_Houses_Data_page21-28.csv\", index=False, header=True)"
   ]
  },
  {
   "cell_type": "code",
   "execution_count": null,
   "metadata": {},
   "outputs": [],
   "source": []
  }
 ],
 "metadata": {
  "kernelspec": {
   "display_name": "Python 3",
   "language": "python",
   "name": "python3"
  },
  "language_info": {
   "codemirror_mode": {
    "name": "ipython",
    "version": 3
   },
   "file_extension": ".py",
   "mimetype": "text/x-python",
   "name": "python",
   "nbconvert_exporter": "python",
   "pygments_lexer": "ipython3",
   "version": "3.7.6"
  }
 },
 "nbformat": 4,
 "nbformat_minor": 4
}
